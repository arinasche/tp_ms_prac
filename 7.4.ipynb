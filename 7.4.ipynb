{
 "cells": [
  {
   "cell_type": "code",
   "execution_count": 15,
   "metadata": {},
   "outputs": [
    {
     "name": "stdout",
     "output_type": "stream",
     "text": [
      "0.7665697681696116 16.83087481099219\n"
     ]
    },
    {
     "data": {
      "image/png": "[encoded data removed]",
      "text/plain": [
       "<Figure size 576x432 with 1 Axes>"
      ]
     },
     "metadata": {
      "needs_background": "light"
     },
     "output_type": "display_data"
    }
   ],
   "source": [
    "import matplotlib.pyplot as plt\n",
    "import pandas as pd\n",
    "import numpy as np\n",
    "from pylab import *\n",
    "import brewer2mpl\n",
    "from matplotlib import rcParams\n",
    "import seaborn as sb\n",
    "import scipy.stats as sc\n",
    "a=0.05\n",
    "p=2\n",
    "n=100\n",
    "def d1(x,n):\n",
    "    l=(sc.gamma.ppf(1-a/2,n)-sc.gamma.ppf(a/2,n))/(n*x)\n",
    "    return(l)\n",
    "def d2(x,n):\n",
    "    l=(sc.expon.ppf(1-a/2)-sc.expon.ppf(a/2))/(n*x)\n",
    "    return(l)\n",
    "l1=[]\n",
    "l2=[]\n",
    "for i in range(0,10):\n",
    "    x=sc.expon.rvs(scale=1/p,size=n)\n",
    "    l1.append(d1(x.mean(),n))\n",
    "    l2.append(d2(min(x),n))\n",
    "print(np.mean(l1),np.mean(l2))\n",
    "\n",
    "plt.figure(figsize = (8,6))\n",
    "sb.distplot(l1, label = '$\\sum{X_i}$') \n",
    "sb.distplot(l2, label = '$X_{(1)}$') \n",
    "plt.legend()\n",
    "plt.show()"
   ]
  },
  {
   "cell_type": "code",
   "execution_count": 7,
   "metadata": {},
   "outputs": [
    {
     "name": "stdout",
     "output_type": "stream",
     "text": [
      "0.791189965447898 0.001994292732460722\n"
     ]
    }
   ],
   "source": []
  },
  {
   "cell_type": "code",
   "execution_count": null,
   "metadata": {},
   "outputs": [],
   "source": []
  }
 ],
 "metadata": {
  "kernelspec": {
   "display_name": "Python 3",
   "language": "python",
   "name": "python3"
  },
  "language_info": {
   "codemirror_mode": {
    "name": "ipython",
    "version": 3
   },
   "file_extension": ".py",
   "mimetype": "text/x-python",
   "name": "python",
   "nbconvert_exporter": "python",
   "pygments_lexer": "ipython3",
   "version": "3.8.5"
  }
 },
 "nbformat": 4,
 "nbformat_minor": 4
}
