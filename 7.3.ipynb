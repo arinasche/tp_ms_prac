{
 "cells": [
  {
   "cell_type": "code",
   "execution_count": 3,
   "metadata": {},
   "outputs": [
    {
     "name": "stdout",
     "output_type": "stream",
     "text": [
      "0.037140240007293074 0.009279116447593315\n"
     ]
    }
   ],
   "source": [
    "import matplotlib.pyplot as plt\n",
    "import pandas as pd\n",
    "import numpy as np\n",
    "from pylab import *\n",
    "import brewer2mpl\n",
    "from matplotlib import rcParams\n",
    "import seaborn as sb\n",
    "import scipy.stats as sc\n",
    "a=0.05\n",
    "p=0.9\n",
    "n=1000\n",
    "def d1(x,n):\n",
    "    l=2*sc.norm.ppf(1-a/2)*np.sqrt(x*(1-x))/np.sqrt(n)\n",
    "    return(l)\n",
    "def d2(x,n):\n",
    "    l=0.5*np.sin(sc.norm.ppf(1-a/2)/np.sqrt(n))*np.sqrt(x)*np.cos(np.arcsin(np.sqrt(x)))\n",
    "    return(l)\n",
    "l1=0\n",
    "l2=0\n",
    "for i in range(0,1000):\n",
    "    x=sc.bernoulli.rvs(p,size=n)\n",
    "    l1+=d1(x.mean(),n)\n",
    "    l2+=d2(x.mean(),n)\n",
    "print(l1/1000,l2/1000)"
   ]
  },
  {
   "cell_type": "code",
   "execution_count": null,
   "metadata": {},
   "outputs": [],
   "source": []
  },
  {
   "cell_type": "code",
   "execution_count": null,
   "metadata": {},
   "outputs": [],
   "source": []
  },
  {
   "cell_type": "code",
   "execution_count": null,
   "metadata": {},
   "outputs": [],
   "source": []
  }
 ],
 "metadata": {
  "kernelspec": {
   "display_name": "Python 3",
   "language": "python",
   "name": "python3"
  },
  "language_info": {
   "codemirror_mode": {
    "name": "ipython",
    "version": 3
   },
   "file_extension": ".py",
   "mimetype": "text/x-python",
   "name": "python",
   "nbconvert_exporter": "python",
   "pygments_lexer": "ipython3",
   "version": "3.8.5"
  }
 },
 "nbformat": 4,
 "nbformat_minor": 4
}
