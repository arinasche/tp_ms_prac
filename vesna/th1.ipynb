{
 "cells": [
  {
   "cell_type": "code",
   "execution_count": 1,
   "metadata": {},
   "outputs": [],
   "source": [
    "import matplotlib.pyplot as plt\n",
    "import pandas as pd\n",
    "import numpy as np\n",
    "import scipy.stats as sc"
   ]
  },
  {
   "cell_type": "code",
   "execution_count": 4,
   "metadata": {},
   "outputs": [
    {
     "data": {
      "text/plain": [
       "[0.8558817580541545,\n",
       " 0.6354302917746724,\n",
       " 0.7677711009771024,\n",
       " 0.8336361482895142,\n",
       " 0.956930730398774,\n",
       " 0.7941008138914188,\n",
       " 0.6700579143876463,\n",
       " 0.7603514454204825,\n",
       " 0.9285384572077141,\n",
       " 0.7318401520140758,\n",
       " 0.5018182098755801,\n",
       " 0.25686176896885266,\n",
       " 0.8930868673667627,\n",
       " 0.9324172229953148,\n",
       " 0.7121016312295028,\n",
       " 0.9906090177598694,\n",
       " 0.6321937512876519,\n",
       " 0.5737264197026183,\n",
       " 0.6507008739016615,\n",
       " 0.5845054380582742,\n",
       " 0.8549216318342715,\n",
       " 0.4193010878716517,\n",
       " 0.205052004489452,\n",
       " 0.4194353361246937,\n",
       " 0.6798796466886996,\n",
       " 0.7738409495643221,\n",
       " 0.19543651417104638,\n",
       " 0.7847956233886189,\n",
       " 0.6070317998489143,\n",
       " 0.9797686509874195,\n",
       " 0.606059667747909,\n",
       " 0.6280369150399677,\n",
       " 0.6243174047013976,\n",
       " 0.6608581553363305,\n",
       " 0.6885224326623405,\n",
       " 0.43101381879409834,\n",
       " 0.5430163750332436,\n",
       " 0.5271452563539238,\n",
       " 0.3557603117058376,\n",
       " 0.41228098648221007,\n",
       " 0.7270211467772605,\n",
       " 0.08837988054537012,\n",
       " 0.5192306424533483,\n",
       " 0.8033243398381362,\n",
       " 0.8340391018692611,\n",
       " 0.633191960056808,\n",
       " 0.939091264660326,\n",
       " 0.7508526843464148,\n",
       " 0.4494888595126936,\n",
       " 0.3627111281932052,\n",
       " 0.15523358335151044,\n",
       " 0.472307896019834,\n",
       " 0.268297751580544,\n",
       " 0.4830840097534687,\n",
       " 0.9625286710459683,\n",
       " 0.45394731970878854,\n",
       " 0.4229430869963234,\n",
       " 0.8300449700922692,\n",
       " 0.7861383627806038,\n",
       " 0.248626375882781,\n",
       " 0.7390996997789113,\n",
       " 0.32742398921961785,\n",
       " 0.7571825674774715,\n",
       " 0.45526774699448397,\n",
       " 0.6395152849130431,\n",
       " 0.3194029148424343,\n",
       " 0.90102831285205,\n",
       " 0.664072137623348,\n",
       " 0.6399818128347382,\n",
       " 0.44899248821884424,\n",
       " 0.5283803561543533,\n",
       " 0.6007342000809709,\n",
       " 0.7450400692548702,\n",
       " 0.8815044213954665,\n",
       " 0.2499728762012606,\n",
       " 0.5544612100240666,\n",
       " 0.6278326764078497,\n",
       " 0.597208973806522,\n",
       " 0.7354982466530866,\n",
       " 0.48134347403841454,\n",
       " 0.8391319276517359,\n",
       " 0.15137865604182912,\n",
       " 0.6254116692902044,\n",
       " 0.5133725412407898,\n",
       " 0.6399544181943139,\n",
       " 0.43609642543997806,\n",
       " 0.7541305518334644,\n",
       " 0.7734470756860854,\n",
       " 0.7950569548260824,\n",
       " 0.928943034400843,\n",
       " 0.7885514237347202,\n",
       " 0.6000271652595021,\n",
       " 0.6939547282000841,\n",
       " 0.8236507739972263,\n",
       " 0.8254466634054699,\n",
       " 0.8875225629831552,\n",
       " 0.775572010055223,\n",
       " 0.5312889654937927,\n",
       " 0.6745939529112398,\n",
       " 0.5836193280935977]"
      ]
     },
     "execution_count": 4,
     "metadata": {},
     "output_type": "execute_result"
    }
   ],
   "source": [
    "y=sc.uniform.rvs(size=100)\n",
    "x=list(map(lambda x: np.sqrt(x),y))\n",
    "x"
   ]
  },
  {
   "cell_type": "markdown",
   "metadata": {},
   "source": [
    "$P(r \\leq R, \\varphi \\leq \\alpha) = \\int_1^R \\int^{\\alpha}_0 \\frac{8}{5} r dr d\\varphi$\n",
    "$\\Rightarrow \\varphi \\mathtt{\\sim} U[0, 2\\pi], P(r \\leq R) = 0.8 R^2-0.8$"
   ]
  },
  {
   "cell_type": "code",
   "execution_count": 20,
   "metadata": {},
   "outputs": [
    {
     "data": {
      "image/png": "[encoded data removed]",
      "text/plain": [
       "<Figure size 432x432 with 1 Axes>"
      ]
     },
     "metadata": {
      "needs_background": "light"
     },
     "output_type": "display_data"
    }
   ],
   "source": [
    "phi = sc.uniform.rvs(scale = 2*np.pi, size = 100)\n",
    "r = (5/4*sc.uniform.rvs(size = 100)+1)**0.5\n",
    "x = r * np.cos(phi)\n",
    "y = r * np.sin(phi)\n",
    "fig = plt.figure(figsize = (6,6))\n",
    "ax = fig.add_subplot()\n",
    "c = ax.scatter(x, y)\n",
    "plt.show()"
   ]
  },
  {
   "cell_type": "markdown",
   "metadata": {},
   "source": [
    "### задание 3"
   ]
  },
  {
   "cell_type": "markdown",
   "metadata": {},
   "source": [
    "$f(y) = (y+\\frac{1}{2})I(y \\in [0,1]) \\Rightarrow F_Y(y)=\\frac{y^2}{2}+\\frac{y}{2} \\Rightarrow F^{-1}(y) = \\frac{\\sqrt{1+8y}-1}{2}$\n",
    "$f_{X|Y}(x|y) = \\frac{(x+y)I(x, y \\in [0,1])}{y + \\frac{1}{2}} \\Rightarrow F_{X|Y}(x|y) = \\frac{\\frac{x^2}{2}+xy}{y+\\frac{1}{2}} \\Rightarrow F^{-1}(x|y) = \\frac{2y+\\sqrt{4y^2+8x(y+\\frac{1}{2})}}{2}$"
   ]
  },
  {
   "cell_type": "code",
   "execution_count": 3,
   "metadata": {},
   "outputs": [
    {
     "name": "stdout",
     "output_type": "stream",
     "text": [
      "(x = [0.69796331 0.42759866 0.64510798 0.03347403 0.90980981 0.38555832\n",
      " 0.92154257 0.02098701 0.8103434  0.40478786], y = [0.87270902 0.3091376  0.89288027 0.70967756 0.84114522 0.06281814\n",
      " 0.55528082 0.62405891 0.33600547 0.75184841])\n"
     ]
    }
   ],
   "source": [
    "a = sc.uniform.rvs(size = 10)\n",
    "b = sc.uniform.rvs(size = 10)\n",
    "\n",
    "y = 0.5*(-1 + (1+8*a)**0.5)\n",
    "x = -y + 0.5*(4*y**2+8*b*(y + 0.5))**0.5\n",
    "\n",
    "print(\"(x = \"+str(x)+\", y = \" + str(y) + \")\")"
   ]
  },
  {
   "cell_type": "code",
   "execution_count": null,
   "metadata": {},
   "outputs": [],
   "source": []
  }
 ],
 "metadata": {
  "kernelspec": {
   "display_name": "Python 3",
   "language": "python",
   "name": "python3"
  },
  "language_info": {
   "codemirror_mode": {
    "name": "ipython",
    "version": 3
   },
   "file_extension": ".py",
   "mimetype": "text/x-python",
   "name": "python",
   "nbconvert_exporter": "python",
   "pygments_lexer": "ipython3",
   "version": "3.8.5"
  }
 },
 "nbformat": 4,
 "nbformat_minor": 4
}
