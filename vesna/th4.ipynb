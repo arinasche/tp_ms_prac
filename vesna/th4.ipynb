{
 "cells": [
  {
   "cell_type": "markdown",
   "metadata": {},
   "source": [
    "## Задание 1  \n",
    "\n",
    "$X_{1},\\ldots,X_n\\backsim R[0,\\theta],\\hat{\\theta}=max\\{X_1,\\ldots,X_n\\} $\n",
    "\n",
    "$n=50,theta=1$"
   ]
  },
  {
   "cell_type": "code",
   "execution_count": 75,
   "metadata": {},
   "outputs": [
    {
     "data": {
      "text/plain": [
       "<AxesSubplot:ylabel='Count'>"
      ]
     },
     "execution_count": 75,
     "metadata": {},
     "output_type": "execute_result"
    },
    {
     "data": {
      "image/png": "[encoded data removed]",
      "text/plain": [
       "<Figure size 360x288 with 1 Axes>"
      ]
     },
     "metadata": {
      "needs_background": "light"
     },
     "output_type": "display_data"
    }
   ],
   "source": [
    "import matplotlib.pyplot as plt\n",
    "import pandas as pd\n",
    "import numpy as np\n",
    "import scipy.stats as sc\n",
    "import seaborn as sb\n",
    "n=100\n",
    "t=[]\n",
    "sample=sc.uniform.rvs(size=50)\n",
    "for i in range(n):\n",
    "    t.append(max(np.random.choice(sample, 50)))\n",
    "x=np.arange(0.8, 1, 1/100)\n",
    "plt.figure(figsize = (5,4))\n",
    "plt.plot(x, list(map(lambda y: n*(y**(n-1)),x)))\n",
    "sb.histplot(t) "
   ]
  },
  {
   "cell_type": "markdown",
   "metadata": {},
   "source": [
    "## Задание 2"
   ]
  },
  {
   "cell_type": "code",
   "execution_count": 4,
   "metadata": {},
   "outputs": [
    {
     "name": "stdout",
     "output_type": "stream",
     "text": [
      "Стандартное отклонение 16.4117852365704\n",
      "106.27364519653098 170.6066611678993\n"
     ]
    }
   ],
   "source": [
    "sample=sc.norm.rvs(loc=5, scale=1,size=100)\n",
    "from IPython.display import Latex\n",
    "n=100\n",
    "t=[]\n",
    "for i in range(n):\n",
    "    t.append(np.exp(np.mean(np.random.choice(sample,100))))\n",
    "print('Стандартное отклонение '+str(np.sqrt(np.var(t))))\n",
    "print(np.exp(np.mean(sample))+sc.norm.ppf(0.025)*np.sqrt(np.var(t)),\n",
    "       (np.exp(np.mean(sample))-sc.norm.ppf(0.025)*np.sqrt(np.var(t))))"
   ]
  },
  {
   "cell_type": "code",
   "execution_count": 9,
   "metadata": {},
   "outputs": [
    {
     "data": {
      "text/plain": [
       "<matplotlib.legend.Legend at 0x22871e14580>"
      ]
     },
     "execution_count": 9,
     "metadata": {},
     "output_type": "execute_result"
    },
    {
     "data": {
      "image/png": "[encoded data removed]",
      "text/plain": [
       "<Figure size 360x288 with 1 Axes>"
      ]
     },
     "metadata": {
      "needs_background": "light"
     },
     "output_type": "display_data"
    }
   ],
   "source": [
    "s=[]\n",
    "for i in range(n):\n",
    "    s.append(np.exp(np.mean(sc.norm.rvs(loc=5, scale=1,size=100))))\n",
    "plt.figure(figsize = (5,4))\n",
    "sb.histplot(s, kde = True, color = 'green') \n",
    "sb.histplot(t, kde = True, label='bootstrap') \n",
    "plt.legend()"
   ]
  },
  {
   "cell_type": "markdown",
   "metadata": {},
   "source": [
    "## Задание 3"
   ]
  },
  {
   "cell_type": "code",
   "execution_count": 82,
   "metadata": {},
   "outputs": [],
   "source": [
    "n = 5000\n",
    "k = 50 \n",
    "sigma = 1\n",
    "alpha = 0.05\n",
    "sample = np.exp(sc.norm.rvs(size = n))\n",
    "t = (np.exp(sigma ** 2) + 2) * np.sqrt((np.exp(sigma ** 2) - 1))\n",
    "bs = []\n",
    "for i in range(k):\n",
    "    bs.append(np.random.choice(sample, n))\n",
    "t_bs = [ np.mean([(x - np.mean(i)) ** 3 / np.sqrt(np.var(i))**3 for x in i]) for i in bs ]\n",
    "t_emp = np.mean([(x - np.mean(sample)) ** 3 / np.sqrt(np.var(sample))**3 for x in sample])"
   ]
  },
  {
   "cell_type": "code",
   "execution_count": 84,
   "metadata": {},
   "outputs": [],
   "source": [
    "#calculate Normal interval\n",
    "D = np.var(t_bs)\n",
    "se = D ** 0.5\n",
    "Norm_interval = (t_emp - sc.norm.ppf(1-alpha/2)*se, t_emp + sc.norm.ppf(1-alpha/2)*se)\n"
   ]
  },
  {
   "cell_type": "code",
   "execution_count": 85,
   "metadata": {},
   "outputs": [],
   "source": [
    "#calculate pivot interval\n",
    "quant1 = 0\n",
    "quant2 = 0\n",
    "while((quant1) / k < 1- alpha/2):\n",
    "    quant1 += 1\n",
    "    \n",
    "while((quant2) / k < alpha/2):\n",
    "    quant2 += 1\n",
    "    \n",
    "t1 = t_bs[quant1 - 1]\n",
    "t2 = t_bs[quant2 - 1]\n",
    "\n",
    "Pivot_interval = (2 * t_emp - t1, 2 * t_emp - t2)"
   ]
  },
  {
   "cell_type": "code",
   "execution_count": 86,
   "metadata": {},
   "outputs": [],
   "source": [
    "#calculate percentile interval\n",
    "Percentile_interval = (t2, t1)"
   ]
  },
  {
   "cell_type": "code",
   "execution_count": 87,
   "metadata": {},
   "outputs": [
    {
     "name": "stdout",
     "output_type": "stream",
     "text": [
      "Истинное значение статистики: 6.184877138632554\n",
      "Нормальный доверительный интервал уровня 0.05: (4.227653699478578, 5.987792796160818)\n",
      "Pivot доверительный интервал уровня 0.05: (4.748377436737252, 5.36563297499636)\n",
      "Percentile доверительный интервал уровня 0.05: (4.849813520643036, 5.467069058902144)\n"
     ]
    },
    {
     "data": {
      "text/plain": [
       "5.107723247819698"
      ]
     },
     "execution_count": 87,
     "metadata": {},
     "output_type": "execute_result"
    }
   ],
   "source": [
    "print(\"Истинное значение статистики: \" + str(t) + \\\n",
    "      \"\\nНормальный доверительный интервал уровня \" + str(alpha) + \": \" + str(Norm_interval) + \\\n",
    "      \"\\nPivot доверительный интервал уровня \" + str(alpha) + \": \" + str(Pivot_interval) + \\\n",
    "      \"\\nPercentile доверительный интервал уровня \" + str(alpha) + \": \" + str(Percentile_interval))\n",
    "t_emp"
   ]
  },
  {
   "cell_type": "markdown",
   "metadata": {},
   "source": [
    "## Задание 4"
   ]
  },
  {
   "cell_type": "code",
   "execution_count": 61,
   "metadata": {},
   "outputs": [],
   "source": [
    "n = 25\n",
    "sample = sc.t.rvs(3, size = n)\n",
    "t = (sc.t.ppf(df = 3, q = 0.75) - sc.t.ppf(df = 3, q = 0.25))/1.34"
   ]
  },
  {
   "cell_type": "code",
   "execution_count": 62,
   "metadata": {},
   "outputs": [],
   "source": [
    "def find_t_emp(x):\n",
    "    y = sorted(x)\n",
    "    quant2  = 0\n",
    "    while(quant2 / n < 0.75):\n",
    "        quant2 += 1\n",
    "    quant1  = 0\n",
    "    while(quant1 / n < 0.25):\n",
    "        quant1 += 1\n",
    "    return (y[quant2 - 1] - y[quant1 - 1]) / 1.34\n",
    "bs = []\n",
    "for i in range(k):\n",
    "    bs.append(np.random.choice(sample, n))\n",
    "t_bs = sorted([find_t_emp(x) for x in bs])\n",
    "t_emp = find_t_emp(sample)\n",
    "alpha = 0.05"
   ]
  },
  {
   "cell_type": "code",
   "execution_count": 63,
   "metadata": {},
   "outputs": [],
   "source": [
    "#calculate Normal interval\n",
    "D = np.var(t_bs)\n",
    "se = D ** 0.5\n",
    "Norm_interval = (t_emp - sc.norm.ppf(1-alpha/2)*se, t_emp + sc.norm.ppf(1-alpha/2)*se)"
   ]
  },
  {
   "cell_type": "code",
   "execution_count": 64,
   "metadata": {},
   "outputs": [],
   "source": [
    "#calculate pivot interval\n",
    "quant1 = 0\n",
    "quant2 = 0\n",
    "while((quant1) / k < 1- alpha/2):\n",
    "    quant1 += 1\n",
    "    \n",
    "while((quant2) / k < alpha/2):\n",
    "    quant2 += 1\n",
    "    \n",
    "t1 = t_bs[quant1 - 1]\n",
    "t2 = t_bs[quant2 - 1]\n",
    "\n",
    "Pivot_interval = (2 * t_emp - t1, 2 * t_emp - t2)"
   ]
  },
  {
   "cell_type": "code",
   "execution_count": 65,
   "metadata": {},
   "outputs": [],
   "source": [
    "#calculate percentile interval\n",
    "Percentile_interval = (t2, t1)"
   ]
  },
  {
   "cell_type": "code",
   "execution_count": 66,
   "metadata": {},
   "outputs": [
    {
     "name": "stdout",
     "output_type": "stream",
     "text": [
      "Истинное значение статистики: 1.1416303404192403\n",
      "Нормальный доверительный интервал уровня 0.05: (0.2476998100106378, 1.5325364798156387)\n",
      "Pivot доверительный интервал уровня 0.05: (-0.10690358524186916, 1.517348259365388)\n",
      "Percentile доверительный интервал уровня 0.05: (0.26288803046088854, 1.8871398750681456)\n"
     ]
    }
   ],
   "source": [
    "print(\"Истинное значение статистики: \" + str(t) + \\\n",
    "      \"\\nНормальный доверительный интервал уровня \" + str(alpha) + \": \" + str(Norm_interval) + \\\n",
    "      \"\\nPivot доверительный интервал уровня \" + str(alpha) + \": \" + str(Pivot_interval) + \\\n",
    "      \"\\nPercentile доверительный интервал уровня \" + str(alpha) + \": \" + str(Percentile_interval))"
   ]
  },
  {
   "cell_type": "code",
   "execution_count": null,
   "metadata": {},
   "outputs": [],
   "source": []
  },
  {
   "cell_type": "code",
   "execution_count": 74,
   "metadata": {},
   "outputs": [
    {
     "name": "stdout",
     "output_type": "stream",
     "text": [
      "101\n",
      "100\n",
      "101\n",
      "102\n",
      "103\n",
      "104\n",
      "105\n",
      "104\n",
      "105\n",
      "106\n",
      "107\n",
      "108\n",
      "109\n",
      "110\n",
      "111\n",
      "112\n",
      "113\n",
      "114\n",
      "113\n",
      "114\n",
      "115\n",
      "116\n",
      "117\n",
      "118\n",
      "119\n",
      "120\n",
      "121\n",
      "120\n",
      "121\n",
      "122\n",
      "123\n",
      "124\n",
      "125\n",
      "126\n",
      "127\n",
      "128\n",
      "129\n",
      "130\n",
      "131\n",
      "132\n",
      "133\n",
      "134\n",
      "135\n",
      "136\n",
      "135\n",
      "136\n",
      "137\n",
      "138\n",
      "137\n",
      "138\n",
      "139\n",
      "140\n",
      "141\n",
      "142\n",
      "143\n",
      "144\n",
      "145\n",
      "146\n",
      "147\n",
      "148\n",
      "149\n",
      "150\n",
      "151\n",
      "150\n",
      "151\n",
      "152\n",
      "151\n",
      "152\n",
      "153\n",
      "154\n",
      "155\n",
      "156\n",
      "157\n",
      "158\n",
      "159\n",
      "160\n",
      "159\n",
      "160\n",
      "161\n",
      "162\n",
      "163\n",
      "164\n",
      "165\n",
      "166\n",
      "165\n",
      "166\n",
      "167\n",
      "168\n",
      "169\n",
      "170\n",
      "171\n",
      "172\n",
      "173\n",
      "174\n",
      "175\n",
      "176\n",
      "177\n",
      "178\n",
      "179\n",
      "180\n"
     ]
    }
   ],
   "source": [
    "s = 100\n",
    "for i in range(100):\n",
    "    s += np.random.choice([-1, 1], p = [0.1, 0.9] )\n",
    "    print(s)"
   ]
  },
  {
   "cell_type": "code",
   "execution_count": null,
   "metadata": {},
   "outputs": [],
   "source": []
  },
  {
   "cell_type": "code",
   "execution_count": null,
   "metadata": {},
   "outputs": [],
   "source": [
    "conda update sympy\n"
   ]
  },
  {
   "cell_type": "code",
   "execution_count": null,
   "metadata": {},
   "outputs": [],
   "source": []
  }
 ],
 "metadata": {
  "kernelspec": {
   "display_name": "Python 3",
   "language": "python",
   "name": "python3"
  },
  "language_info": {
   "codemirror_mode": {
    "name": "ipython",
    "version": 3
   },
   "file_extension": ".py",
   "mimetype": "text/x-python",
   "name": "python",
   "nbconvert_exporter": "python",
   "pygments_lexer": "ipython3",
   "version": "3.8.5"
  }
 },
 "nbformat": 4,
 "nbformat_minor": 4
}
