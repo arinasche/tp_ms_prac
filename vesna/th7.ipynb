{
 "cells": [
  {
   "cell_type": "code",
   "execution_count": 1,
   "metadata": {},
   "outputs": [],
   "source": [
    "import matplotlib.pyplot as plt\n",
    "import pandas as pd\n",
    "import numpy as np\n",
    "import scipy.stats as sc\n",
    "num = 1000"
   ]
  },
  {
   "cell_type": "code",
   "execution_count": 16,
   "metadata": {},
   "outputs": [
    {
     "data": {
      "image/png": "[encoded data removed]",
      "text/plain": [
       "<Figure size 360x288 with 1 Axes>"
      ]
     },
     "metadata": {
      "needs_background": "light"
     },
     "output_type": "display_data"
    }
   ],
   "source": [
    "pears_corr = []\n",
    "for i in range(10000):\n",
    "    x = sc.norm.rvs(0, 1, num)\n",
    "    y = sc.norm.rvs(0, 1, num)\n",
    "    pears_corr.append(sc.stats.pearsonr(x, y)[0])\n",
    "plt.figure(figsize = (5,4))\n",
    "pears_corr.sort()\n",
    "x1 = np.linspace(-10, 10 , 10000)\n",
    "y = np.array([1 if pears_corr[i] < x1[i] else 0 for i in range(10000)])\n",
    "y = np.cumsum(y) / (np.array(range(10000)) + 1)\n",
    "plt.plot(x1, y)\n",
    "plt.title('x, y - нормальные')\n",
    "plt.show()"
   ]
  },
  {
   "cell_type": "code",
   "execution_count": 22,
   "metadata": {},
   "outputs": [
    {
     "data": {
      "image/png": "[encoded data removed]",
      "text/plain": [
       "<Figure size 360x288 with 1 Axes>"
      ]
     },
     "metadata": {
      "needs_background": "light"
     },
     "output_type": "display_data"
    }
   ],
   "source": [
    "pears_corr = []\n",
    "for i in range(10000):\n",
    "    x = sc.expon.rvs(0, 1, num)\n",
    "    y = sc.norm.rvs(0, 1, num)\n",
    "    pears_corr.append(sc.stats.pearsonr(x, y)[0])\n",
    "plt.figure(figsize = (5,4))\n",
    "x1 = np.linspace(-10, 100 , 10000)\n",
    "y = np.array([1 if pears_corr[i] < x1[i] else 0 for i in range(10000)])\n",
    "y = np.cumsum(y) / (np.array(range(10000)) + 1)\n",
    "plt.plot(x1, y)\n",
    "plt.title('x -экспоненциальное, y - нормальное')\n",
    "plt.show()"
   ]
  },
  {
   "cell_type": "code",
   "execution_count": 10,
   "metadata": {},
   "outputs": [
    {
     "data": {
      "text/plain": [
       "array([ 1.64715120e-03, -1.09359726e-02,  6.61464333e-05, ...,\n",
       "        7.93097765e-04,  7.94993491e-04,  7.94050245e-04])"
      ]
     },
     "execution_count": 10,
     "metadata": {},
     "output_type": "execute_result"
    }
   ],
   "source": [
    "np.cumsum(pears_corr) / y"
   ]
  },
  {
   "cell_type": "code",
   "execution_count": 17,
   "metadata": {},
   "outputs": [
    {
     "data": {
      "image/png": "[encoded data removed]",
      "text/plain": [
       "<Figure size 360x288 with 1 Axes>"
      ]
     },
     "metadata": {
      "needs_background": "light"
     },
     "output_type": "display_data"
    }
   ],
   "source": [
    "pears_corr = []\n",
    "for i in range(10000):\n",
    "    x = sc.uniform.rvs(0, 1, num)\n",
    "    y = sc.uniform.rvs(0, 1, num)\n",
    "    pears_corr.append(sc.stats.pearsonr(x, y)[0])\n",
    "plt.figure(figsize = (5,4))\n",
    "x1 = np.linspace(0, 1 , 10000)\n",
    "y = np.array([1 if pears_corr[i] < x1[i] else 0 for i in range(10000)])\n",
    "y = np.cumsum(y) / (np.array(range(10000)) + 1)\n",
    "plt.plot(x1, y, label = 'ЭФР')\n",
    "plt.title('x, y - равномерное')\n",
    "plt.show()"
   ]
  },
  {
   "cell_type": "markdown",
   "metadata": {},
   "source": [
    "## Посчитать коэффициенты Спирмена и Кэнделла"
   ]
  },
  {
   "cell_type": "code",
   "execution_count": 85,
   "metadata": {},
   "outputs": [],
   "source": [
    "kend_pvalue = []\n",
    "sp_pvalue = []"
   ]
  },
  {
   "cell_type": "markdown",
   "metadata": {},
   "source": [
    "Для равномерного распределения на кольце $\\{(x,y):\\: 1\\leq x^2+y^2 \\leq 1.5\\}$"
   ]
  },
  {
   "cell_type": "code",
   "execution_count": 86,
   "metadata": {},
   "outputs": [
    {
     "name": "stdout",
     "output_type": "stream",
     "text": [
      "Коэффициент Спирмена: -0.030832923331693324\n",
      "Коэффициент Кэнделла: -0.01640080160320641\n"
     ]
    }
   ],
   "source": [
    "r = sc.uniform.rvs(loc=1,scale=np.sqrt(0.5),size=500)\n",
    "phi=sc.uniform.rvs(scale=2*np.pi,size=500)\n",
    "x = r * np.cos(phi)\n",
    "y = r * np.sin(phi)\n",
    "sp_pvalue.append(sc.stats.spearmanr(x, y)[1])\n",
    "kend_pvalue.append(sc.stats.kendalltau(x, y)[1])\n",
    "print('Коэффициент Спирмена: '+ str(sc.stats.spearmanr(x, y)[0]))\n",
    "print('Коэффициент Кэнделла: '+ str(sc.stats.kendalltau(x, y)[0]))"
   ]
  },
  {
   "cell_type": "markdown",
   "metadata": {},
   "source": [
    "Для координат выборки распределения с плотностью $(x+y)I_{x,y\\in [0,1]}$"
   ]
  },
  {
   "cell_type": "code",
   "execution_count": 87,
   "metadata": {},
   "outputs": [
    {
     "name": "stdout",
     "output_type": "stream",
     "text": [
      "Коэффициент Спирмена: -0.4204884979539918\n",
      "Коэффициент Кэнделла: -0.2902765531062124\n"
     ]
    }
   ],
   "source": [
    "r = sc.uniform.rvs(0, 1, 500)\n",
    "x = (-1 / 2 + np.sqrt(1 + 8 * r) / 2)\n",
    "r = sc.uniform.rvs(0, 1, 500)\n",
    "y = (1 - 2 * x) / 2 + np.sqrt((2 * x - 1) ** 2 + 4 * r * (2 * x + 1))/2\n",
    "sp_pvalue.append(sc.stats.spearmanr(x, y)[1])\n",
    "kend_pvalue.append(sc.stats.kendalltau(x, y)[1])\n",
    "print('Коэффициент Спирмена: '+ str(sc.stats.spearmanr(x, y)[0]))\n",
    "print('Коэффициент Кэнделла: '+ str(sc.stats.kendalltau(x, y)[0]))"
   ]
  },
  {
   "cell_type": "code",
   "execution_count": 88,
   "metadata": {},
   "outputs": [
    {
     "name": "stdout",
     "output_type": "stream",
     "text": [
      "Коэффициент Спирмена: -0.7783618361836182\n",
      "Коэффициент Кэнделла: -0.6028282828282829\n"
     ]
    }
   ],
   "source": [
    "x = sc.norm.rvs(0, 1, num)\n",
    "u = sc.norm.rvs(0, 1, num)\n",
    "y = x ** 2 - 2 * x + u \n",
    "sp_pvalue.append(sc.stats.spearmanr(x, y)[1])\n",
    "kend_pvalue.append(sc.stats.kendalltau(x, y)[1])\n",
    "print('Коэффициент Спирмена: '+ str(sc.stats.spearmanr(x, y)[0]))\n",
    "print('Коэффициент Кэнделла: '+ str(sc.stats.kendalltau(x, y)[0]))"
   ]
  },
  {
   "cell_type": "code",
   "execution_count": 93,
   "metadata": {},
   "outputs": [
    {
     "data": {
      "text/html": [
       "<div>\n",
       "<style scoped>\n",
       "    .dataframe tbody tr th:only-of-type {\n",
       "        vertical-align: middle;\n",
       "    }\n",
       "\n",
       "    .dataframe tbody tr th {\n",
       "        vertical-align: top;\n",
       "    }\n",
       "\n",
       "    .dataframe thead th {\n",
       "        text-align: right;\n",
       "    }\n",
       "</style>\n",
       "<table border=\"1\" class=\"dataframe\">\n",
       "  <thead>\n",
       "    <tr style=\"text-align: right;\">\n",
       "      <th></th>\n",
       "      <th>Коэффициент Спирмена</th>\n",
       "      <th>Коэффициент Кэнделла</th>\n",
       "    </tr>\n",
       "  </thead>\n",
       "  <tbody>\n",
       "    <tr>\n",
       "      <th>равномерное на кольце</th>\n",
       "      <td>4.915264e-01</td>\n",
       "      <td>5.835680e-01</td>\n",
       "    </tr>\n",
       "    <tr>\n",
       "      <th>(x+y)I(x,y \\in [0,1])</th>\n",
       "      <td>7.670870e-23</td>\n",
       "      <td>2.950513e-22</td>\n",
       "    </tr>\n",
       "    <tr>\n",
       "      <th>x = norm(0,1), y = x ** 2 - 2x + norm(0,1)</th>\n",
       "      <td>1.580610e-21</td>\n",
       "      <td>6.295040e-19</td>\n",
       "    </tr>\n",
       "  </tbody>\n",
       "</table>\n",
       "</div>"
      ],
      "text/plain": [
       "                                            Коэффициент Спирмена  \\\n",
       "равномерное на кольце                               4.915264e-01   \n",
       "(x+y)I(x,y \\in [0,1])                               7.670870e-23   \n",
       "x = norm(0,1), y = x ** 2 - 2x + norm(0,1)          1.580610e-21   \n",
       "\n",
       "                                            Коэффициент Кэнделла  \n",
       "равномерное на кольце                               5.835680e-01  \n",
       "(x+y)I(x,y \\in [0,1])                               2.950513e-22  \n",
       "x = norm(0,1), y = x ** 2 - 2x + norm(0,1)          6.295040e-19  "
      ]
     },
     "execution_count": 93,
     "metadata": {},
     "output_type": "execute_result"
    }
   ],
   "source": [
    "df = pd.DataFrame({\n",
    "...     'Коэффициент Спирмена': sp_pvalue,\n",
    "...     'Коэффициент Кэнделла': kend_pvalue\n",
    "... }, index = ['равномерное на кольце', '(x+y)I(x,y \\in [0,1])', 'x = norm(0,1), y = x ** 2 - 2x + norm(0,1)'])\n",
    "df"
   ]
  },
  {
   "cell_type": "code",
   "execution_count": null,
   "metadata": {},
   "outputs": [],
   "source": []
  }
 ],
 "metadata": {
  "kernelspec": {
   "display_name": "Python 3",
   "language": "python",
   "name": "python3"
  },
  "language_info": {
   "codemirror_mode": {
    "name": "ipython",
    "version": 3
   },
   "file_extension": ".py",
   "mimetype": "text/x-python",
   "name": "python",
   "nbconvert_exporter": "python",
   "pygments_lexer": "ipython3",
   "version": "3.8.5"
  }
 },
 "nbformat": 4,
 "nbformat_minor": 4
}
