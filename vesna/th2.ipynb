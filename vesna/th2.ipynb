{
 "cells": [
  {
   "cell_type": "markdown",
   "metadata": {},
   "source": [
    "## Задание 1\n",
    "\n",
    "Построить график $Z_n,Y_n$"
   ]
  },
  {
   "cell_type": "code",
   "execution_count": 5,
   "metadata": {},
   "outputs": [],
   "source": [
    "import matplotlib.pyplot as plt\n",
    "import pandas as pd\n",
    "import numpy as np\n",
    "import scipy.stats as sc"
   ]
  },
  {
   "cell_type": "code",
   "execution_count": 6,
   "metadata": {},
   "outputs": [
    {
     "data": {
      "text/plain": [
       "<matplotlib.legend.Legend at 0x18168c66190>"
      ]
     },
     "execution_count": 6,
     "metadata": {},
     "output_type": "execute_result"
    },
    {
     "data": {
      "image/png": "[encoded data removed]",
      "text/plain": [
       "<Figure size 1080x216 with 2 Axes>"
      ]
     },
     "metadata": {
      "needs_background": "light"
     },
     "output_type": "display_data"
    }
   ],
   "source": [
    "n=10\n",
    "z=[1]\n",
    "y=[1]\n",
    "p=0.2\n",
    "for i in range(n):\n",
    "    x=sc.geom.rvs(p, size=z[i])-1\n",
    "    z.append(np.sum(x))\n",
    "    y.append(y[i]+z[i+1])\n",
    "k = np.arange(0, n+1, 1)\n",
    "plt.figure(figsize=(15,3))\n",
    "plt.subplot(1, 2, 1)\n",
    "plt.plot(k,z,label = r'$Z_n$')\n",
    "plt.legend()\n",
    "plt.title('p = '+ str(p))\n",
    "plt.subplot(1, 2, 2)\n",
    "plt.plot(k,y,label = r'$Y_n$')\n",
    "plt.title('p = '+ str(p))\n",
    "plt.legend()\n"
   ]
  },
  {
   "cell_type": "markdown",
   "metadata": {},
   "source": [
    "## Задание 2\n",
    "Вероятность вырождения:  \n",
    "$\\varphi(s)=\\frac{(p)}{(1-(1-p)s)}=s$\n",
    "\n",
    "$s=1, p>\\frac{1}{2}$\n",
    "\n",
    "$s=\\frac{p}{1-p}, p<\\frac{1}{2}$\n"
   ]
  },
  {
   "cell_type": "markdown",
   "metadata": {},
   "source": [
    "## Задание 3\n",
    "$p>0.45$"
   ]
  },
  {
   "cell_type": "code",
   "execution_count": 121,
   "metadata": {},
   "outputs": [
    {
     "data": {
      "text/plain": [
       "<matplotlib.legend.Legend at 0x179049f2520>"
      ]
     },
     "execution_count": 121,
     "metadata": {},
     "output_type": "execute_result"
    },
    {
     "data": {
      "image/png": "[encoded data removed]",
      "text/plain": [
       "<Figure size 1080x216 with 1 Axes>"
      ]
     },
     "metadata": {
      "needs_background": "light"
     },
     "output_type": "display_data"
    }
   ],
   "source": [
    "n=30\n",
    "z=[1]\n",
    "p=0.45\n",
    "for i in range(n):\n",
    "    x=sc.geom.rvs(p, size=z[i])-1\n",
    "    z.append(np.sum(x))\n",
    "k = np.arange(0, n+1, 1)\n",
    "plt.figure(figsize=(15,3))\n",
    "plt.plot(k,z,label = r'$Z_n$')\n",
    "plt.title('p = '+ str(p))\n",
    "plt.legend()"
   ]
  },
  {
   "cell_type": "markdown",
   "metadata": {},
   "source": [
    "## Задание 4\n",
    "$\\widehat{\\mu}=\\frac{Z_1+\\ldots+Z_{n+1}}{1+Z_{1}\\ldots+Z_{n}}=\\frac{Y_{n+1}}{1+Y_{n}}$\n"
   ]
  },
  {
   "cell_type": "markdown",
   "metadata": {},
   "source": [
    "$E(Z_n) = \\mu^n$"
   ]
  },
  {
   "cell_type": "code",
   "execution_count": 27,
   "metadata": {},
   "outputs": [
    {
     "name": "stdout",
     "output_type": "stream",
     "text": [
      "M = 0.5\n",
      "M = 0.7867934421967723\n"
     ]
    }
   ],
   "source": [
    "n=10\n",
    "z=[1]\n",
    "y=[1]\n",
    "p=0.2\n",
    "for i in range(n):\n",
    "    x=sc.geom.rvs(p, size=z[i])-1\n",
    "    z.append(np.sum(x))\n",
    "    y.append(y[i]+z[i+1])\n",
    "print(r'M = '+str(np.sum(z)/(1+np.sum(z)-z[n])))\n",
    "print(r'M = '+str(np.mean(z)**(1/n)))"
   ]
  },
  {
   "cell_type": "markdown",
   "metadata": {},
   "source": [
    "## Задание 5"
   ]
  },
  {
   "cell_type": "code",
   "execution_count": 143,
   "metadata": {},
   "outputs": [
    {
     "name": "stdout",
     "output_type": "stream",
     "text": [
      "0.8392857142857143\n"
     ]
    }
   ],
   "source": [
    "n=10\n",
    "k=3\n",
    "z=[1]\n",
    "p=0.2\n",
    "for i in range(k):\n",
    "    x=sc.geom.rvs(p, size=z[i])-1\n",
    "    z.append(np.sum(x))\n",
    "a=z[k]\n",
    "d=0\n",
    "for i in range(z[k]):\n",
    "    z=[1]\n",
    "    for j in range(n-k):\n",
    "        x=sc.geom.rvs(p, size=z[j])-1\n",
    "        z.append(np.sum(x))\n",
    "    d+=(z[n-k]!=0)\n",
    "print(d/a)"
   ]
  },
  {
   "cell_type": "markdown",
   "metadata": {},
   "source": [
    "### Задание 6"
   ]
  },
  {
   "cell_type": "code",
   "execution_count": null,
   "metadata": {},
   "outputs": [],
   "source": []
  }
 ],
 "metadata": {
  "kernelspec": {
   "display_name": "Python 3",
   "language": "python",
   "name": "python3"
  },
  "language_info": {
   "codemirror_mode": {
    "name": "ipython",
    "version": 3
   },
   "file_extension": ".py",
   "mimetype": "text/x-python",
   "name": "python",
   "nbconvert_exporter": "python",
   "pygments_lexer": "ipython3",
   "version": "3.8.5"
  }
 },
 "nbformat": 4,
 "nbformat_minor": 4
}
