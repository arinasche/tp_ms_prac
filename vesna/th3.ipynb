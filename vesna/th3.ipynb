{
 "cells": [
  {
   "cell_type": "code",
   "execution_count": 33,
   "metadata": {},
   "outputs": [],
   "source": [
    "import pandas as pd\n",
    "import scipy.stats as sc\n",
    "import matplotlib.pyplot as plt"
   ]
  },
  {
   "cell_type": "markdown",
   "metadata": {},
   "source": [
    "## Задание 3.1"
   ]
  },
  {
   "cell_type": "code",
   "execution_count": 2,
   "metadata": {},
   "outputs": [],
   "source": [
    "P1 = np.matrix([[1/4, 3/4, 0, 0],\n",
    "[1/2, 0, 1/2, 0],\n",
    "[0, 1/2, 0, 1/2],\n",
    "[0, 0, 3/4, 1/4]])\n",
    "\n",
    "P2 = np.matrix([[2/9, 1/3, 0, 4/9],\n",
    "[4/9, 1/9, 0, 4/9],\n",
    "[2/9, 2/9, 2/9, 1/3],\n",
    "[2/9, 2/9, 4/9, 1/9]])\n",
    "\n",
    "P3 = np.matrix([[4/9, 0, 2/9, 1/3],\n",
    "[0, 4/9, 2/9, 1/3],\n",
    "[0, 2/3, 0, 1/3],\n",
    "[4/9, 2/9, 2/9, 1/9]])"
   ]
  },
  {
   "cell_type": "markdown",
   "metadata": {},
   "source": [
    "### Стационарные распределения"
   ]
  },
  {
   "cell_type": "code",
   "execution_count": 5,
   "metadata": {},
   "outputs": [],
   "source": [
    "pi1 = [0.2, 0.3, 0.3, 0.2]\n",
    "pi2 = [3/11, 5/22, 2/11, 7/22]\n",
    "pi3 = [12/55, 18/55, 2/11, 3/11]"
   ]
  },
  {
   "cell_type": "code",
   "execution_count": 6,
   "metadata": {},
   "outputs": [
    {
     "name": "stdout",
     "output_type": "stream",
     "text": [
      "Степень 5\n",
      "[[0.17675781 0.43066406 0.16992188 0.22265625]\n",
      " [0.28710938 0.14648438 0.453125   0.11328125]\n",
      " [0.11328125 0.453125   0.14648438 0.28710938]\n",
      " [0.22265625 0.16992188 0.43066406 0.17675781]]\n",
      "Степень 10\n",
      "[[0.22371578 0.25403881 0.34596062 0.17628479]\n",
      " [0.16935921 0.36967659 0.23032379 0.23064041]\n",
      " [0.23064041 0.23032379 0.36967659 0.16935921]\n",
      " [0.17628479 0.34596062 0.25403881 0.22371578]]\n",
      "Степень 20\n",
      "[[0.20394139 0.29141525 0.30858475 0.19605861]\n",
      " [0.19427683 0.31252614 0.28747386 0.20572317]\n",
      " [0.20572317 0.28747386 0.31252614 0.19427683]\n",
      " [0.19605861 0.30858475 0.29141525 0.20394139]]\n",
      "Степень 30\n",
      "[[0.20071303 0.29844139 0.30155861 0.19928697]\n",
      " [0.19896093 0.30227164 0.29772836 0.20103907]\n",
      " [0.20103907 0.29772836 0.30227164 0.19896093]\n",
      " [0.19928697 0.30155861 0.29844139 0.20071303]]\n",
      "Степень 50\n",
      "[[0.20002346 0.29994871 0.30005129 0.19997654]\n",
      " [0.19996581 0.30007475 0.29992525 0.20003419]\n",
      " [0.20003419 0.29992525 0.30007475 0.19996581]\n",
      " [0.19997654 0.30005129 0.29994871 0.20002346]]\n",
      "\n",
      "Стационарное распределение:  [0.2, 0.3, 0.3, 0.2]\n"
     ]
    }
   ],
   "source": [
    "powers = [5, 10, 20, 30, 50]\n",
    "for n in powers:\n",
    "    print(\"Степень \" + str(n))\n",
    "    print(np.linalg.matrix_power(P1, n))\n",
    "print(\"\\nСтационарное распределение: \", pi1)"
   ]
  },
  {
   "cell_type": "code",
   "execution_count": 7,
   "metadata": {},
   "outputs": [
    {
     "name": "stdout",
     "output_type": "stream",
     "text": [
      "Степень 5\n",
      "[[0.27251943 0.22748903 0.18154414 0.31844739]\n",
      " [0.27306136 0.22694711 0.18154414 0.31844739]\n",
      " [0.27268878 0.22730275 0.18174736 0.31826111]\n",
      " [0.27268878 0.22730275 0.18228929 0.31771918]]\n",
      "Степень 10\n",
      "[[0.27272739 0.22727261 0.18181832 0.31818168]\n",
      " [0.27272709 0.22727291 0.18181832 0.31818168]\n",
      " [0.27272729 0.22727271 0.18181823 0.31818177]\n",
      " [0.27272729 0.22727271 0.18181793 0.31818207]]\n",
      "Степень 20\n",
      "[[0.27272727 0.22727273 0.18181818 0.31818182]\n",
      " [0.27272727 0.22727273 0.18181818 0.31818182]\n",
      " [0.27272727 0.22727273 0.18181818 0.31818182]\n",
      " [0.27272727 0.22727273 0.18181818 0.31818182]]\n",
      "Степень 30\n",
      "[[0.27272727 0.22727273 0.18181818 0.31818182]\n",
      " [0.27272727 0.22727273 0.18181818 0.31818182]\n",
      " [0.27272727 0.22727273 0.18181818 0.31818182]\n",
      " [0.27272727 0.22727273 0.18181818 0.31818182]]\n",
      "Степень 50\n",
      "[[0.27272727 0.22727273 0.18181818 0.31818182]\n",
      " [0.27272727 0.22727273 0.18181818 0.31818182]\n",
      " [0.27272727 0.22727273 0.18181818 0.31818182]\n",
      " [0.27272727 0.22727273 0.18181818 0.31818182]]\n",
      "\n",
      "Стационарное распределение:  [0.2727272727272727, 0.22727272727272727, 0.18181818181818182, 0.3181818181818182]\n"
     ]
    }
   ],
   "source": [
    "for n in powers:\n",
    "    print(\"Степень \" + str(n))\n",
    "    print(np.linalg.matrix_power(P2, n))\n",
    "print(\"\\nСтационарное распределение: \", pi2)"
   ]
  },
  {
   "cell_type": "code",
   "execution_count": 8,
   "metadata": {},
   "outputs": [
    {
     "name": "stdout",
     "output_type": "stream",
     "text": [
      "Степень 5\n",
      "[[0.2284882  0.31672001 0.18191671 0.27287507]\n",
      " [0.21114667 0.33406154 0.18191671 0.27287507]\n",
      " [0.21114667 0.33460346 0.18137479 0.27287507]\n",
      " [0.22306898 0.32268116 0.18191671 0.27233315]]\n",
      "Степень 10\n",
      "[[0.21836231 0.32709237 0.18181813 0.27272719]\n",
      " [0.21806158 0.3273931  0.18181813 0.27272719]\n",
      " [0.21806158 0.32739281 0.18181842 0.27272719]\n",
      " [0.21826187 0.32719252 0.18181813 0.27272749]]\n",
      "Степень 20\n",
      "[[0.21818187 0.32727267 0.18181818 0.27272727]\n",
      " [0.21818178 0.32727276 0.18181818 0.27272727]\n",
      " [0.21818178 0.32727276 0.18181818 0.27272727]\n",
      " [0.21818184 0.3272727  0.18181818 0.27272727]]\n",
      "Степень 30\n",
      "[[0.21818182 0.32727273 0.18181818 0.27272727]\n",
      " [0.21818182 0.32727273 0.18181818 0.27272727]\n",
      " [0.21818182 0.32727273 0.18181818 0.27272727]\n",
      " [0.21818182 0.32727273 0.18181818 0.27272727]]\n",
      "Степень 50\n",
      "[[0.21818182 0.32727273 0.18181818 0.27272727]\n",
      " [0.21818182 0.32727273 0.18181818 0.27272727]\n",
      " [0.21818182 0.32727273 0.18181818 0.27272727]\n",
      " [0.21818182 0.32727273 0.18181818 0.27272727]]\n",
      "\n",
      "Стационарное распределение:  [0.21818181818181817, 0.32727272727272727, 0.18181818181818182, 0.2727272727272727]\n"
     ]
    }
   ],
   "source": [
    "for n in powers:\n",
    "    print(\"Степень \" + str(n))\n",
    "    print(np.linalg.matrix_power(P3, n))\n",
    "print(\"\\nСтационарное распределение: \", pi3)"
   ]
  },
  {
   "cell_type": "markdown",
   "metadata": {},
   "source": [
    "### Задание 3.2"
   ]
  },
  {
   "cell_type": "code",
   "execution_count": 9,
   "metadata": {},
   "outputs": [],
   "source": [
    "P = np.matrix([[2/3, 1/3], [1/4, 3/4]])"
   ]
  },
  {
   "cell_type": "code",
   "execution_count": 13,
   "metadata": {},
   "outputs": [],
   "source": [
    "def next_state(s):\n",
    "    if s == 1:\n",
    "        if sc.bernoulli.rvs(p = 2/3) == 1:\n",
    "            return 1\n",
    "        else:\n",
    "            return 2\n",
    "    if s == 2:\n",
    "        if sc.bernoulli.rvs(p = 3/4) == 1:\n",
    "            return 2\n",
    "        else:\n",
    "            return 1\n",
    "    return -1\n",
    "\n",
    "def generate_chain(start, steps):\n",
    "    chain = [start]\n",
    "    for i in range(steps):\n",
    "        chain.append(next_state(chain[i]))\n",
    "    \n",
    "    return chain"
   ]
  },
  {
   "cell_type": "code",
   "execution_count": 14,
   "metadata": {},
   "outputs": [],
   "source": [
    "start = np.matrix([1, 0])\n",
    "Pn = np.linalg.matrix_power(P, 8)\n",
    "\n",
    "disp = start.dot(Pn)"
   ]
  },
  {
   "cell_type": "code",
   "execution_count": 15,
   "metadata": {},
   "outputs": [
    {
     "name": "stdout",
     "output_type": "stream",
     "text": [
      "Practical: 0.608\n",
      "Theoretical: 0.5709094463407113\n"
     ]
    }
   ],
   "source": [
    "counter = 0\n",
    "for i in range(1000):\n",
    "    if generate_chain(1, 10)[10] == 2:\n",
    "        counter += 1\n",
    "\n",
    "print(\"Practical: \" + str(counter / 1000) + \"\\nTheoretical: \" + str(disp.item(1)))"
   ]
  },
  {
   "cell_type": "markdown",
   "metadata": {},
   "source": [
    "### Задание 3"
   ]
  },
  {
   "cell_type": "code",
   "execution_count": 16,
   "metadata": {},
   "outputs": [],
   "source": [
    "P = np.matrix([[1/3, 1/3, 1/3],\n",
    "[1/5, 2/5, 2/5],\n",
    "[1/2, 1/6, 1/3]])\n",
    "\n",
    "start = np.matrix([6/17, 5/17, 6/17])"
   ]
  },
  {
   "cell_type": "code",
   "execution_count": 18,
   "metadata": {},
   "outputs": [],
   "source": [
    "def next_state(cur_):\n",
    "    if cur_ == 1:\n",
    "        next = sc.multinomial.rvs(n = 1, p = [1/3, 1/3, 1/3])\n",
    "        for i in range(len(next)):\n",
    "            if next[i] != 0:\n",
    "                return i+1\n",
    "    if cur_ == 2:\n",
    "        next = sc.multinomial.rvs(n = 1, p = [1/5, 2/5, 2/5])\n",
    "        for i in range(len(next)):\n",
    "            if next[i] != 0:\n",
    "                return i+1\n",
    "    if cur_ == 3:\n",
    "        next = sc.multinomial.rvs(n = 1, p = [1/2, 1/6, 1/3])\n",
    "        for i in range(len(next)):\n",
    "            if next[i] != 0:\n",
    "                return i+1\n",
    "    return -1\n",
    "\n",
    "def start_pos():\n",
    "    next = sc.multinomial.rvs(n = 1, p = [6/17, 5/17, 6/17])\n",
    "    for i in range(len(next)):\n",
    "        if next[i] != 0:\n",
    "            return i+1\n",
    "\n",
    "def generate_chain(steps):\n",
    "    start = start_pos()\n",
    "    chain = [start]\n",
    "    for i in range(steps):\n",
    "        chain.append(next_state(chain[i]))\n",
    "    \n",
    "    return chain"
   ]
  },
  {
   "cell_type": "code",
   "execution_count": 28,
   "metadata": {},
   "outputs": [],
   "source": [
    "from IPython.display import display, Markdown"
   ]
  },
  {
   "cell_type": "code",
   "execution_count": 32,
   "metadata": {},
   "outputs": [
    {
     "name": "stdout",
     "output_type": "stream",
     "text": [
      "xi_1:  [[0.35294118 0.29411765 0.35294118]]\n",
      "xi_8: [[0.35294118 0.29411765 0.35294118]]\n",
      "xi_30:  [[0.35294118 0.29411765 0.35294118]]\n"
     ]
    }
   ],
   "source": [
    "Pn = np.linalg.matrix_power(P, 1)\n",
    "disp = start.dot(Pn)\n",
    "print(\"xi_1: \", disp)\n",
    "\n",
    "Pn = np.linalg.matrix_power(P, 8)\n",
    "disp = start.dot(Pn)\n",
    "print('xi_8:', disp)\n",
    "\n",
    "Pn = np.linalg.matrix_power(P, 30)\n",
    "disp = start.dot(Pn)\n",
    "print(\"xi_30: \", disp)"
   ]
  },
  {
   "cell_type": "code",
   "execution_count": 34,
   "metadata": {},
   "outputs": [
    {
     "data": {
      "image/png": "[encoded data removed]",
      "text/plain": [
       "<Figure size 1440x720 with 1 Axes>"
      ]
     },
     "metadata": {
      "needs_background": "light"
     },
     "output_type": "display_data"
    }
   ],
   "source": [
    "y = generate_chain(30)\n",
    "x = [i for i in range(31)]\n",
    "plt.figure(figsize = (20, 10))\n",
    "plt.plot(x, y)\n",
    "plt.title(\"График марковской цепи с 3-мя состояниями\")\n",
    "plt.show()"
   ]
  },
  {
   "cell_type": "markdown",
   "metadata": {},
   "source": [
    "### Задание 3.4"
   ]
  },
  {
   "cell_type": "code",
   "execution_count": 40,
   "metadata": {},
   "outputs": [],
   "source": [
    "P = np.matrix([[1/3, 1/3, 1/3],\n",
    "[1/5, 2/5, 2/5],\n",
    "[1/2, 1/6, 1/3]])\n",
    "\n",
    "start = np.matrix([6/17, 5/17, 6/17])"
   ]
  },
  {
   "cell_type": "code",
   "execution_count": 41,
   "metadata": {},
   "outputs": [],
   "source": [
    "n = 200\n",
    "ch = generate_chain(n)"
   ]
  },
  {
   "cell_type": "code",
   "execution_count": 42,
   "metadata": {},
   "outputs": [],
   "source": [
    "stay1 = []\n",
    "stay2 = []\n",
    "stay3 = []\n",
    "ret1 = []\n",
    "ret2 = []\n",
    "ret3 = []"
   ]
  },
  {
   "cell_type": "code",
   "execution_count": 43,
   "metadata": {},
   "outputs": [],
   "source": [
    "def count_stays(state_, chain_):\n",
    "    stay = []\n",
    "    ret = []\n",
    "    last_met = -1\n",
    "    time = 0\n",
    "    for i in range(len(chain_)):\n",
    "        if chain_[i] == state_:\n",
    "            time += 1\n",
    "            if last_met == -1:\n",
    "                last_met = i\n",
    "                continue\n",
    "            ret.append(i - last_met)\n",
    "            last_met = i\n",
    "        else:\n",
    "            stay.append(time)\n",
    "            time = 0\n",
    "\n",
    "    if time != 0:\n",
    "        stay.append(time)\n",
    "    return stay, ret"
   ]
  },
  {
   "cell_type": "code",
   "execution_count": 44,
   "metadata": {},
   "outputs": [],
   "source": [
    "stay1, ret1 = count_stays(1, ch)\n",
    "stay2, ret2 = count_stays(2, ch)\n",
    "stay3, ret3 = count_stays(3, ch)"
   ]
  },
  {
   "cell_type": "code",
   "execution_count": 45,
   "metadata": {},
   "outputs": [
    {
     "name": "stdout",
     "output_type": "stream",
     "text": [
      "Среднее время пребывания в состояниях:\n",
      "1) 0.37\n",
      "2) 0.29\n",
      "3) 0.345\n",
      "Среднее время возвращения в состояния:\n",
      "1) 2.712328767123288\n",
      "2) 3.3684210526315788\n",
      "3) 2.7794117647058822\n",
      "Эргодическое распределение:\n",
      "1) 0.35294117647058826\n",
      "2) 0.29411764705882354\n",
      "3) 0.35294117647058826\n",
      "Ожидаемое время возвращения:\n",
      "1) 2.833333333333333\n",
      "2) 3.4\n",
      "3) 2.833333333333333\n"
     ]
    }
   ],
   "source": [
    "print(\"Среднее время пребывания в состояниях:\\n\" + \"1) \" + str(np.sum(stay1)/n) +\n",
    "\"\\n2) \" + str(np.sum(stay2)/n) + \"\\n3) \" + str(np.sum(stay3)/n))\n",
    "print(\"Среднее время возвращения в состояния:\\n\" + \"1) \" + str(np.mean(ret1)) +\n",
    "\"\\n2) \" + str(np.mean(ret2)) + \"\\n3) \" + str(np.mean(ret3)))\n",
    "print(\"Эргодическое распределение:\" + \"\\n1) \" + str(start.item(0)) +\n",
    "\"\\n2) \" + str(start.item(1)) + \"\\n3) \" + str(start.item(2)))\n",
    "print(\"Ожидаемое время возвращения:\" + \"\\n1) \" + str(1/start.item(0)) +\n",
    "\"\\n2) \" + str(1/start.item(1)) + \"\\n3) \" + str(1/start.item(2)))"
   ]
  },
  {
   "cell_type": "code",
   "execution_count": null,
   "metadata": {},
   "outputs": [],
   "source": []
  }
 ],
 "metadata": {
  "kernelspec": {
   "display_name": "Python 3",
   "language": "python",
   "name": "python3"
  },
  "language_info": {
   "codemirror_mode": {
    "name": "ipython",
    "version": 3
   },
   "file_extension": ".py",
   "mimetype": "text/x-python",
   "name": "python",
   "nbconvert_exporter": "python",
   "pygments_lexer": "ipython3",
   "version": "3.8.5"
  }
 },
 "nbformat": 4,
 "nbformat_minor": 4
}
