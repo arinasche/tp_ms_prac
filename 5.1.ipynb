{
 "cells": [
  {
   "cell_type": "code",
   "execution_count": 16,
   "metadata": {},
   "outputs": [
    {
     "name": "stdout",
     "output_type": "stream",
     "text": [
      "1\n",
      "Среднее 0.07956076634543312 -0.0031418387237376246\n",
      "Среднее 1.8181943130300018 -0.0031418387237376246\n",
      "1\n",
      "Среднее 0.01858678366590807 0.021170505223632723\n",
      "Среднее 0.38237345062507655 0.021170505223632723\n",
      "1\n",
      "Среднее -0.0021408472915779137 0.0022651327429892695\n",
      "Среднее 0.1342995457603663 0.0022651327429892695\n",
      "1\n",
      "Среднее -0.015276247303434876 -0.012352834259769921\n",
      "Среднее 0.0540343671462853 -0.012352834259769921\n",
      "1\n",
      "Среднее -0.0016224735951710638 0.0007003257320816374\n",
      "Среднее 0.022448982498006448 0.0007003257320816374\n"
     ]
    }
   ],
   "source": [
    "import matplotlib.pyplot as plt\n",
    "import pandas as pd\n",
    "import numpy as np\n",
    "import matplotlib.pyplot as plt\n",
    "import seaborn as sb\n",
    "from scipy.stats import cauchy\n",
    "from scipy.optimize import minimize_scalar\n",
    "from functools import partial\n",
    "m=[5,10,20,50,100]\n",
    "def d(t,z):\n",
    "    f=cauchy.pdf(z[0], loc=t, scale=1)\n",
    "    for i in range(1,n):\n",
    "        f*=cauchy.pdf(z[i], loc=t, scale=1)\n",
    "    return(-f)\n",
    "for n in m:\n",
    "    s=[]\n",
    "    t=[]\n",
    "    print(1)\n",
    "    for i in range(0,500):\n",
    "        x=cauchy.rvs(0,1,n)\n",
    "        s.append(np.median(x))\n",
    "        y=np.sort(x)\n",
    "        g = partial(d, z=y)\n",
    "        t2=minimize_scalar(g)\n",
    "        t.append(t2.x)\n",
    "    print('Среднее', np.mean(s),np.mean(t))\n",
    "    print('дисперсия', np.var(s),np.mean(t))"
   ]
  },
  {
   "cell_type": "code",
   "execution_count": null,
   "metadata": {},
   "outputs": [],
   "source": []
  },
  {
   "cell_type": "code",
   "execution_count": null,
   "metadata": {},
   "outputs": [],
   "source": []
  }
 ],
 "metadata": {
  "kernelspec": {
   "display_name": "Python 3",
   "language": "python",
   "name": "python3"
  },
  "language_info": {
   "codemirror_mode": {
    "name": "ipython",
    "version": 3
   },
   "file_extension": ".py",
   "mimetype": "text/x-python",
   "name": "python",
   "nbconvert_exporter": "python",
   "pygments_lexer": "ipython3",
   "version": "3.8.3"
  }
 },
 "nbformat": 4,
 "nbformat_minor": 4
}
