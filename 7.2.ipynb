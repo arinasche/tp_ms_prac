{
 "cells": [
  {
   "cell_type": "markdown",
   "metadata": {},
   "source": [
    "Доверительный интервал:\n",
    "    $(2\\overline{X}+y_{\\fraq{\\alpha}{2}})$"
   ]
  },
  {
   "cell_type": "code",
   "execution_count": 2,
   "metadata": {},
   "outputs": [
    {
     "name": "stdout",
     "output_type": "stream",
     "text": [
      "0.958\n"
     ]
    }
   ],
   "source": [
    "import matplotlib.pyplot as plt\n",
    "import pandas as pd\n",
    "import numpy as np\n",
    "from pylab import *\n",
    "import brewer2mpl\n",
    "from matplotlib import rcParams\n",
    "import seaborn as sb\n",
    "import scipy.stats as sc\n",
    "n=100\n",
    "t=0.7\n",
    "a=0.05\n",
    "s=0\n",
    "for i in range(0,1000):\n",
    "    x=sc.uniform.rvs(size=n,scale=t)\n",
    "    if (2*x.mean()+sc.norm.ppf(a/2)*2*x.mean()/(np.sqrt(3*n)))<t and (2*x.mean()+sc.norm.ppf(1-a/2)*2*x.mean()/(np.sqrt(3*n)))>t:\n",
    "        s+=1\n",
    "print(s/1000)"
   ]
  },
  {
   "cell_type": "code",
   "execution_count": null,
   "metadata": {},
   "outputs": [],
   "source": []
  },
  {
   "cell_type": "code",
   "execution_count": null,
   "metadata": {},
   "outputs": [],
   "source": []
  },
  {
   "cell_type": "code",
   "execution_count": null,
   "metadata": {},
   "outputs": [],
   "source": []
  },
  {
   "cell_type": "code",
   "execution_count": null,
   "metadata": {},
   "outputs": [],
   "source": []
  }
 ],
 "metadata": {
  "kernelspec": {
   "display_name": "Python 3",
   "language": "python",
   "name": "python3"
  },
  "language_info": {
   "codemirror_mode": {
    "name": "ipython",
    "version": 3
   },
   "file_extension": ".py",
   "mimetype": "text/x-python",
   "name": "python",
   "nbconvert_exporter": "python",
   "pygments_lexer": "ipython3",
   "version": "3.8.5"
  }
 },
 "nbformat": 4,
 "nbformat_minor": 4
}
